{
 "cells": [
  {
   "cell_type": "code",
   "execution_count": 84,
   "metadata": {},
   "outputs": [],
   "source": [
    "import numpy as np\n",
    "from sklearn.datasets import make_classification, load_iris\n",
    "from sklearn.model_selection import train_test_split\n",
    "import torch"
   ]
  },
  {
   "cell_type": "code",
   "execution_count": 85,
   "metadata": {},
   "outputs": [],
   "source": [
    "# X, y = make_classification(n_samples=250, n_informative = 7, n_classes=3, n_features=10)\n",
    "X,y = load_iris(return_X_y=True)\n",
    "\n",
    "X_train, X_test, y_train, y_test = train_test_split(X, y, test_size=0.33)"
   ]
  },
  {
   "cell_type": "code",
   "execution_count": 86,
   "metadata": {},
   "outputs": [
    {
     "data": {
      "text/plain": [
       "<torch.utils.data.dataloader.DataLoader at 0x7f174dadaf10>"
      ]
     },
     "execution_count": 86,
     "metadata": {},
     "output_type": "execute_result"
    }
   ],
   "source": [
    "from simple_model import ClassifierModel, DyadRankingModel\n",
    "\n",
    "clf = ClassifierModel(input_dim = X_train.shape[1], hidden_dim=16, output_dim=y.max()+1)\n",
    "rnk = DyadRankingModel(input_dim = X_train.shape[1] + y.max()+1, hidden_dim=16)\n",
    "\n",
    "clf.fit(X_train,y_train, num_epochs=100, batch_size=1, learning_rate=0.001)\n",
    "rnk.fit(X_train,y_train, num_epochs=100, batch_size=1, learning_rate=0.001)"
   ]
  },
  {
   "cell_type": "code",
   "execution_count": 87,
   "metadata": {},
   "outputs": [],
   "source": [
    "from sklearn.metrics import accuracy_score\n",
    "y_pred_clf = clf.predict(X_test)\n",
    "y_pred_rnk = rnk.predict_classes(X_test)\n"
   ]
  },
  {
   "cell_type": "code",
   "execution_count": 88,
   "metadata": {},
   "outputs": [
    {
     "data": {
      "text/plain": [
       "0.84"
      ]
     },
     "execution_count": 88,
     "metadata": {},
     "output_type": "execute_result"
    }
   ],
   "source": [
    "accuracy_score(y_pred_clf, y_test)"
   ]
  },
  {
   "cell_type": "code",
   "execution_count": 89,
   "metadata": {},
   "outputs": [
    {
     "data": {
      "text/plain": [
       "0.32"
      ]
     },
     "execution_count": 89,
     "metadata": {},
     "output_type": "execute_result"
    }
   ],
   "source": [
    "accuracy_score(y_pred_rnk, y_test)"
   ]
  },
  {
   "cell_type": "code",
   "execution_count": 77,
   "metadata": {},
   "outputs": [
    {
     "name": "stdout",
     "output_type": "stream",
     "text": [
      "[1 1 1 1 1 1 1 1 1 1 1 1 1 1 1 1 1 1 1 1 1 1 1 1 1 1 1 1 1 1 1 1 1 1 1 1 1\n",
      " 1 1 1 1 1 1 1 1 1 1 1 1 1]\n"
     ]
    }
   ],
   "source": [
    "print(y_pred_rnk)"
   ]
  },
  {
   "cell_type": "code",
   "execution_count": 30,
   "metadata": {},
   "outputs": [],
   "source": [
    "X = torch.tensor(X_test, dtype=torch.float32)\n",
    "eye = torch.eye(3)\n",
    "eyes = eye.repeat((X.shape[0], 1))\n",
    "Xs = X.repeat_interleave(3, dim=0)\n",
    "dyads = torch.cat([Xs, eyes], dim=1)"
   ]
  },
  {
   "cell_type": "code",
   "execution_count": 31,
   "metadata": {},
   "outputs": [
    {
     "data": {
      "text/plain": [
       "tensor([[-0.4796, -0.5233, -0.4966],\n",
       "        [-0.5095, -0.5378, -0.5236],\n",
       "        [-0.5111, -0.5353, -0.5221],\n",
       "        [-0.4857, -0.5195, -0.5007],\n",
       "        [-0.5175, -0.5392, -0.5261],\n",
       "        [-0.4947, -0.5275, -0.5089],\n",
       "        [-0.4765, -0.5204, -0.4935],\n",
       "        [-0.5084, -0.5380, -0.5205],\n",
       "        [-0.4841, -0.5184, -0.4992],\n",
       "        [-0.4742, -0.5204, -0.4936],\n",
       "        [-0.4633, -0.5121, -0.4851],\n",
       "        [-0.5059, -0.5355, -0.5177],\n",
       "        [-0.4742, -0.5183, -0.4922],\n",
       "        [-0.5144, -0.5391, -0.5254],\n",
       "        [-0.4878, -0.5211, -0.5023],\n",
       "        [-0.4908, -0.5231, -0.5042],\n",
       "        [-0.4775, -0.5221, -0.4951],\n",
       "        [-0.4853, -0.5276, -0.5008],\n",
       "        [-0.4910, -0.5320, -0.5047],\n",
       "        [-0.4935, -0.5261, -0.5078],\n",
       "        [-0.4989, -0.5292, -0.5112],\n",
       "        [-0.4917, -0.5238, -0.5059],\n",
       "        [-0.5081, -0.5387, -0.5216],\n",
       "        [-0.4757, -0.5121, -0.4930],\n",
       "        [-0.4981, -0.5273, -0.5101],\n",
       "        [-0.5070, -0.5319, -0.5180],\n",
       "        [-0.4689, -0.5149, -0.4883],\n",
       "        [-0.5096, -0.5349, -0.5207],\n",
       "        [-0.5086, -0.5346, -0.5192],\n",
       "        [-0.5022, -0.5274, -0.5130],\n",
       "        [-0.4744, -0.5192, -0.4921],\n",
       "        [-0.4915, -0.5269, -0.5078],\n",
       "        [-0.5143, -0.5378, -0.5244],\n",
       "        [-0.4767, -0.5197, -0.4932],\n",
       "        [-0.4736, -0.5186, -0.4920],\n",
       "        [-0.4660, -0.5139, -0.4872],\n",
       "        [-0.5036, -0.5303, -0.5148],\n",
       "        [-0.5029, -0.5316, -0.5142],\n",
       "        [-0.4748, -0.5193, -0.4924],\n",
       "        [-0.4838, -0.5255, -0.4987],\n",
       "        [-0.4856, -0.5161, -0.4985],\n",
       "        [-0.4701, -0.5165, -0.4899],\n",
       "        [-0.4685, -0.5140, -0.4874],\n",
       "        [-0.5063, -0.5357, -0.5193],\n",
       "        [-0.5216, -0.5459, -0.5326],\n",
       "        [-0.4791, -0.5225, -0.4954],\n",
       "        [-0.5173, -0.5316, -0.5232],\n",
       "        [-0.4730, -0.5182, -0.4913],\n",
       "        [-0.4866, -0.5214, -0.5014],\n",
       "        [-0.5003, -0.5327, -0.5146]], grad_fn=<ViewBackward0>)"
      ]
     },
     "execution_count": 31,
     "metadata": {},
     "output_type": "execute_result"
    }
   ],
   "source": [
    "rnk(dyads).view(-1,3)"
   ]
  },
  {
   "cell_type": "code",
   "execution_count": null,
   "metadata": {},
   "outputs": [],
   "source": []
  }
 ],
 "metadata": {
  "kernelspec": {
   "display_name": ".venv",
   "language": "python",
   "name": "python3"
  },
  "language_info": {
   "codemirror_mode": {
    "name": "ipython",
    "version": 3
   },
   "file_extension": ".py",
   "mimetype": "text/x-python",
   "name": "python",
   "nbconvert_exporter": "python",
   "pygments_lexer": "ipython3",
   "version": "3.11.5"
  }
 },
 "nbformat": 4,
 "nbformat_minor": 2
}

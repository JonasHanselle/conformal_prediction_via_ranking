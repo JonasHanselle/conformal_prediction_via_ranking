{
 "cells": [
  {
   "cell_type": "code",
   "execution_count": 3,
   "metadata": {},
   "outputs": [],
   "source": [
    "import numpy as np\n",
    "import pandas as pd\n",
    "from sklearn.model_selection import train_test_split\n",
    "from sklearn.pipeline import Pipeline\n",
    "from sklearn.preprocessing import LabelEncoder, StandardScaler, OneHotEncoder\n",
    "from sklearn.impute import SimpleImputer\n",
    "from sklearn.compose import ColumnTransformer\n",
    "from sklearn.model_selection import train_test_split\n",
    "from sklearn.metrics import accuracy_score\n",
    "from math import ceil, log2\n",
    "from sklearn.ensemble import RandomForestClassifier\n",
    "import openml\n",
    "from simple_model import  ConformalPredictor, ConformalRankingPredictor, ClassifierModel, LabelRankingModel\n",
    "import matplotlib.pyplot as plt"
   ]
  },
  {
   "cell_type": "code",
   "execution_count": 7,
   "metadata": {},
   "outputs": [
    {
     "name": "stdout",
     "output_type": "stream",
     "text": [
      "\n",
      "\n",
      "Dataset: 61\n"
     ]
    },
    {
     "name": "stderr",
     "output_type": "stream",
     "text": [
      "/home/jonas/anaconda3/envs/plnet/lib/python3.11/site-packages/openml/utils.py:461: FutureWarning: Starting from Version 0.15 `download_data`, `download_qualities`, and `download_features_meta_data` will all be ``False`` instead of ``True`` by default to enable lazy loading. To disable this message until version 0.15 explicitly set `download_data`, `download_qualities`, and `download_features_meta_data` to a bool while calling `get_dataset`.\n",
      "  return func(*args, **kwargs)\n"
     ]
    },
    {
     "name": "stdout",
     "output_type": "stream",
     "text": [
      "Random Forest\n",
      "Accuracy 0.9666666666666667\n",
      "Coverage 0.9666666666666667 efficiency 1.0\n",
      "\n",
      "Classifier Network\n",
      "Accuracy 0.9666666666666667\n",
      "Coverage 0.9666666666666667 efficiency 1.0\n",
      "\n",
      "Ranking Network\n",
      "Accuracy 0.9666666666666667\n",
      "Coverage 0.7666666666666667 efficiency 0.8\n",
      "\n",
      "\n",
      "Dataset: 187\n"
     ]
    },
    {
     "name": "stderr",
     "output_type": "stream",
     "text": [
      "/home/jonas/anaconda3/envs/plnet/lib/python3.11/site-packages/openml/utils.py:461: FutureWarning: Starting from Version 0.15 `download_data`, `download_qualities`, and `download_features_meta_data` will all be ``False`` instead of ``True`` by default to enable lazy loading. To disable this message until version 0.15 explicitly set `download_data`, `download_qualities`, and `download_features_meta_data` to a bool while calling `get_dataset`.\n",
      "  return func(*args, **kwargs)\n"
     ]
    },
    {
     "name": "stdout",
     "output_type": "stream",
     "text": [
      "Random Forest\n",
      "Accuracy 0.9722222222222222\n",
      "Coverage 0.9722222222222222 efficiency 1.0\n",
      "\n",
      "Classifier Network\n",
      "Accuracy 1.0\n",
      "Coverage 1.0 efficiency 1.0\n",
      "\n",
      "Ranking Network\n",
      "Accuracy 1.0\n",
      "Coverage 1.0 efficiency 1.0277777777777777\n",
      "\n",
      "\n",
      "Dataset: 15\n"
     ]
    },
    {
     "name": "stderr",
     "output_type": "stream",
     "text": [
      "/home/jonas/anaconda3/envs/plnet/lib/python3.11/site-packages/openml/utils.py:461: FutureWarning: Starting from Version 0.15 `download_data`, `download_qualities`, and `download_features_meta_data` will all be ``False`` instead of ``True`` by default to enable lazy loading. To disable this message until version 0.15 explicitly set `download_data`, `download_qualities`, and `download_features_meta_data` to a bool while calling `get_dataset`.\n",
      "  return func(*args, **kwargs)\n"
     ]
    },
    {
     "name": "stdout",
     "output_type": "stream",
     "text": [
      "Random Forest\n",
      "Accuracy 0.9857142857142858\n",
      "Coverage 0.9857142857142858 efficiency 1.0\n",
      "\n",
      "Classifier Network\n",
      "Accuracy 0.9785714285714285\n",
      "Coverage 0.9785714285714285 efficiency 1.0\n",
      "\n",
      "Ranking Network\n",
      "Accuracy 0.9785714285714285\n",
      "Coverage 0.9785714285714285 efficiency 1.0\n",
      "\n",
      "\n",
      "Dataset: 31\n"
     ]
    },
    {
     "name": "stderr",
     "output_type": "stream",
     "text": [
      "/home/jonas/anaconda3/envs/plnet/lib/python3.11/site-packages/openml/utils.py:461: FutureWarning: Starting from Version 0.15 `download_data`, `download_qualities`, and `download_features_meta_data` will all be ``False`` instead of ``True`` by default to enable lazy loading. To disable this message until version 0.15 explicitly set `download_data`, `download_qualities`, and `download_features_meta_data` to a bool while calling `get_dataset`.\n",
      "  return func(*args, **kwargs)\n"
     ]
    },
    {
     "name": "stdout",
     "output_type": "stream",
     "text": [
      "Random Forest\n",
      "Accuracy 0.74\n",
      "Coverage 0.965 efficiency 1.645\n",
      "\n",
      "Classifier Network\n",
      "Accuracy 0.75\n",
      "Coverage 0.955 efficiency 1.58\n",
      "\n",
      "Ranking Network\n",
      "Accuracy 0.75\n",
      "Coverage 0.96 efficiency 1.59\n",
      "\n",
      "\n",
      "Dataset: 4534\n"
     ]
    },
    {
     "name": "stderr",
     "output_type": "stream",
     "text": [
      "/home/jonas/anaconda3/envs/plnet/lib/python3.11/site-packages/openml/utils.py:461: FutureWarning: Starting from Version 0.15 `download_data`, `download_qualities`, and `download_features_meta_data` will all be ``False`` instead of ``True`` by default to enable lazy loading. To disable this message until version 0.15 explicitly set `download_data`, `download_qualities`, and `download_features_meta_data` to a bool while calling `get_dataset`.\n",
      "  return func(*args, **kwargs)\n"
     ]
    },
    {
     "name": "stdout",
     "output_type": "stream",
     "text": [
      "Random Forest\n",
      "Accuracy 0.9710538218000905\n",
      "Coverage 0.9371325192220714 efficiency 0.9552238805970149\n",
      "\n",
      "Classifier Network\n",
      "Accuracy 0.9466304839439168\n",
      "Coverage 0.9443690637720489 efficiency 0.9941203075531434\n",
      "\n",
      "Ranking Network\n",
      "Accuracy 0.9511533242876526\n",
      "Coverage 0.9484396200814111 efficiency 0.9936680235187698\n",
      "\n",
      "\n",
      "Dataset: 1461\n"
     ]
    },
    {
     "name": "stderr",
     "output_type": "stream",
     "text": [
      "/home/jonas/anaconda3/envs/plnet/lib/python3.11/site-packages/openml/utils.py:461: FutureWarning: Starting from Version 0.15 `download_data`, `download_qualities`, and `download_features_meta_data` will all be ``False`` instead of ``True`` by default to enable lazy loading. To disable this message until version 0.15 explicitly set `download_data`, `download_qualities`, and `download_features_meta_data` to a bool while calling `get_dataset`.\n",
      "  return func(*args, **kwargs)\n"
     ]
    },
    {
     "name": "stdout",
     "output_type": "stream",
     "text": [
      "Random Forest\n",
      "Accuracy 0.9020236647130377\n",
      "Coverage 0.9514541634413358 efficiency 1.1156695786796418\n",
      "\n",
      "Classifier Network\n",
      "Accuracy 0.9053411478491651\n",
      "Coverage 0.9526705739245825 efficiency 1.1193188101293818\n",
      "\n",
      "Ranking Network\n",
      "Accuracy 0.9033506579674887\n",
      "Coverage 0.9533340705518081 efficiency 1.1278336835121088\n"
     ]
    }
   ],
   "source": [
    "def evaluate_models(dataset_id):\n",
    "    dataset = openml.datasets.get_dataset(dataset_id)\n",
    "    X, y, _, _ = dataset.get_data(\n",
    "        target=dataset.default_target_attribute, dataset_format=\"dataframe\"\n",
    "    )\n",
    "\n",
    "    # Automatically identify categorical and numerical columns\n",
    "    categorical_features = X.select_dtypes(\n",
    "        include=[\"object\", \"category\"]\n",
    "    ).columns.tolist()\n",
    "    numerical_features = X.select_dtypes(include=[\"int64\", \"float64\"]).columns.tolist()\n",
    "\n",
    "    num_classes = len(np.unique(y))\n",
    "\n",
    "    X_train, X_test, y_train, y_test = train_test_split(\n",
    "        X, y, test_size=0.2, random_state=1\n",
    "    )\n",
    "\n",
    "    # Encode labels\n",
    "    le = LabelEncoder()\n",
    "\n",
    "    y_train = le.fit_transform(y_train)\n",
    "    y_test = le.transform(y_test)\n",
    "\n",
    "    # Preprocessing for numerical data: Impute missing values, then scale\n",
    "    numerical_transformer = Pipeline(\n",
    "        steps=[\n",
    "            (\"imputer\", SimpleImputer(strategy=\"mean\")),\n",
    "            (\"scaler\", StandardScaler()),\n",
    "        ]\n",
    "    )\n",
    "\n",
    "    # Preprocessing for categorical data: Impute missing values, then one-hot encode\n",
    "    categorical_transformer = Pipeline(\n",
    "        steps=[\n",
    "            (\"imputer\", SimpleImputer(strategy=\"most_frequent\")),\n",
    "            (\"onehot\", OneHotEncoder(handle_unknown=\"ignore\")),\n",
    "        ]\n",
    "    )\n",
    "\n",
    "    # Combine preprocessing steps\n",
    "    preprocessor = ColumnTransformer(\n",
    "        transformers=[\n",
    "            (\"num\", numerical_transformer, numerical_features),\n",
    "            (\"cat\", categorical_transformer, categorical_features),\n",
    "        ]\n",
    "    )\n",
    "\n",
    "    X_train = preprocessor.fit_transform(X_train)\n",
    "    X_test = preprocessor.transform(X_test)\n",
    "\n",
    "    if not isinstance(X_train, np.ndarray):\n",
    "        X_train = X_train.toarray()\n",
    "    if not isinstance(y_train, np.ndarray):\n",
    "        y_train = y_train.toarray()\n",
    "\n",
    "    # clf = ClassifierModel(input_dim = X_train.shape[1], hidden_dim=16, output_dim=y.max()+1)\n",
    "    rf = RandomForestClassifier()\n",
    "\n",
    "    clf = ClassifierModel(input_dim=X_train.shape[1], hidden_dim=16, output_dim=num_classes)\n",
    "    rank = LabelRankingModel(input_dim=X_train.shape[1], hidden_dim=16, output_dim=num_classes)\n",
    "\n",
    "    num_classes = len(np.unique(y_train))\n",
    "\n",
    "    batch_size_clf = 32\n",
    "    val_frac = 0.2\n",
    "    cal_frac = 1/3\n",
    "    num_epochs = 35\n",
    "    learning_rate = 0.01\n",
    "\n",
    "    cp_net = ConformalPredictor(clf, alpha=0.05)\n",
    "    cp_rf = ConformalPredictor(rf, alpha=0.05)\n",
    "    cp_rank = ConformalPredictor(rank, alpha=0.05)\n",
    "\n",
    "    cp_net.fit(X_train, y_train, num_epochs=num_epochs, random_state=1, patience=num_epochs, batch_size=batch_size_clf, val_frac=val_frac, cal_size=cal_frac, learning_rate=learning_rate)\n",
    "    cp_rank.fit(X_train, y_train, num_epochs=num_epochs, random_state=1, patience=num_epochs, batch_size=batch_size_clf, val_frac=val_frac, cal_size=cal_frac, learning_rate=learning_rate)\n",
    "    cp_rf.fit(X_train, y_train, cal_size=cal_frac)\n",
    "\n",
    "    if not isinstance(X_test, np.ndarray):\n",
    "        X_test = X_test.toarray()\n",
    "    if not isinstance(y_test, np.ndarray):\n",
    "        y_test = y_test.toarray()\n",
    "\n",
    "    def evaluate_method(method):\n",
    "        pred_sets = method.predict_set(X_test)\n",
    "        y_test_model = method.model.predict(X_test)\n",
    "        coverage = np.mean([y_test[i] in pred_sets[i] for i in range(len(y_test))])\n",
    "        efficiency = np.mean([len(pred_sets[i]) for i in range(len(y_test))])\n",
    "        print(f\"Accuracy {accuracy_score(y_test_model, y_test)}\")\n",
    "        print(f\"Coverage {coverage} efficiency {efficiency}\")\n",
    "\n",
    "    # coverage_clf = np.mean([y_test[i] in pred_sets_clf[i] for i in range(len(y_test))])\n",
    "    # efficiency_clf = np.mean([len(pred_sets_clf[i]) for i in range(len(y_test))])\n",
    "\n",
    "    print(\"Random Forest\")\n",
    "    evaluate_method(cp_rf)\n",
    "    print(\"\\nClassifier Network\")\n",
    "    evaluate_method(cp_net)\n",
    "    print(\"\\nRanking Network\")\n",
    "    evaluate_method(cp_rank)\n",
    "for dataset_id in [61, 187, 15, 31, 4534, 1461]:\n",
    "    print(f\"\\n\\nDataset: {dataset_id}\")\n",
    "    evaluate_models(dataset_id)\n"
   ]
  },
  {
   "cell_type": "code",
   "execution_count": 4,
   "metadata": {},
   "outputs": [],
   "source": [
    "from simple_model import LabelPairDataset"
   ]
  },
  {
   "cell_type": "code",
   "execution_count": 5,
   "metadata": {},
   "outputs": [],
   "source": [
    "from sklearn.datasets import load_iris\n",
    "from sklearn.model_selection import train_test_split\n",
    "\n",
    "X,y = load_iris(return_X_y=True)\n",
    "X_train, X_test, y_train, y_test = train_test_split(X,y,test_size=1/3)\n",
    "num_classes = len(np.unique(y))\n"
   ]
  },
  {
   "cell_type": "code",
   "execution_count": 6,
   "metadata": {},
   "outputs": [],
   "source": [
    "from simple_model import LabelRankingModel\n",
    "model = LabelRankingModel(input_dim=X_train.shape[1],hidden_dim=16, output_dim=3)\n",
    "model.fit(X_train,y_train,num_classes=3, random_state=1, batch_size=32, num_epochs=250,patience=250)"
   ]
  },
  {
   "cell_type": "code",
   "execution_count": 7,
   "metadata": {},
   "outputs": [
    {
     "data": {
      "image/png": "[encoded data removed]",
      "text/plain": [
       "<Figure size 640x480 with 1 Axes>"
      ]
     },
     "metadata": {},
     "output_type": "display_data"
    }
   ],
   "source": [
    "plt.plot(np.arange(len(model.val_losses)), model.val_losses, label=\"validation loss\")\n",
    "plt.plot(np.arange(len(model.train_losses)), model.train_losses, label=\"train loss\")\n",
    "plt.legend()\n",
    "plt.show()"
   ]
  },
  {
   "cell_type": "code",
   "execution_count": 10,
   "metadata": {},
   "outputs": [],
   "source": [
    "y_pred = model.predict(X_test)"
   ]
  },
  {
   "cell_type": "code",
   "execution_count": 11,
   "metadata": {},
   "outputs": [
    {
     "data": {
      "text/plain": [
       "0.94"
      ]
     },
     "execution_count": 11,
     "metadata": {},
     "output_type": "execute_result"
    }
   ],
   "source": [
    "accuracy_score(y_pred,y_test)"
   ]
  },
  {
   "cell_type": "code",
   "execution_count": null,
   "metadata": {},
   "outputs": [],
   "source": []
  }
 ],
 "metadata": {
  "kernelspec": {
   "display_name": "plnet",
   "language": "python",
   "name": "python3"
  },
  "language_info": {
   "codemirror_mode": {
    "name": "ipython",
    "version": 3
   },
   "file_extension": ".py",
   "mimetype": "text/x-python",
   "name": "python",
   "nbconvert_exporter": "python",
   "pygments_lexer": "ipython3",
   "version": "3.11.10"
  }
 },
 "nbformat": 4,
 "nbformat_minor": 2
}

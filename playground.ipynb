{
 "cells": [
  {
   "cell_type": "code",
   "execution_count": 13,
   "metadata": {},
   "outputs": [],
   "source": [
    "import numpy as np\n",
    "from sklearn.datasets import make_classification, load_iris, load_wine, load_breast_cancer\n",
    "from sklearn.model_selection import train_test_split\n",
    "import torch\n",
    "\n",
    "from sklearn.model_selection import train_test_split\n",
    "\n",
    "class ConformalPredictor:\n",
    "\n",
    "\n",
    "    def __init__(self, model, alpha=0.05):\n",
    "        self.model = model\n",
    "        self.alpha = 0.05\n",
    "\n",
    "    def fit(self, X, y, cal_size=0.33,**kwargs):\n",
    "        X_train, X_cal, y_train, y_cal = train_test_split(X,y,test_size=cal_size)\n",
    "        self.model.fit(X_train, y_train,**kwargs)\n",
    "        y_pred_cal = self.model.predict_proba(X_cal)\n",
    "        self.scores = 1 - y_pred_cal[np.arange(len(y_cal)), y_cal]\n",
    "        n = len(self.scores)\n",
    "        self.threshold = np.quantile(self.scores, np.ceil((n+1)*(1-self.alpha))/n, method=\"inverted_cdf\")\n",
    "\n",
    "    def predict_set(self,X):\n",
    "        y_probas = self.model.predict_proba(X)\n",
    "        pred_sets = []\n",
    "        for y_proba in y_probas:\n",
    "            pred_set = np.where(1 - y_proba <= self.threshold)[0]\n",
    "            pred_sets.append(pred_set)\n",
    "        return pred_sets"
   ]
  },
  {
   "cell_type": "code",
   "execution_count": 14,
   "metadata": {},
   "outputs": [],
   "source": [
    "X, y = make_classification(n_samples=500, n_informative = 7, n_classes=3, n_features=10)\n",
    "# X,y = load_breast_cancer(return_X_y=True)\n",
    "\n",
    "X_train, X_test, y_train, y_test = train_test_split(X, y, test_size=0.33)"
   ]
  },
  {
   "cell_type": "code",
   "execution_count": 17,
   "metadata": {},
   "outputs": [],
   "source": [
    "from simple_model import ClassifierModel, DyadRankingModel\n",
    "from sklearn.linear_model import LogisticRegression\n",
    "\n",
    "\n",
    "clf = ClassifierModel(input_dim = X_train.shape[1], hidden_dim=16, output_dim=y.max()+1)\n",
    "rnk = DyadRankingModel(input_dim = X_train.shape[1] + y.max()+1, hidden_dim=16)\n",
    "\n",
    "\n",
    "cp = ConformalPredictor(clf, alpha=0.1)\n",
    "\n",
    "cp.fit(X_train, y_train, num_epochs=1000, learning_rate=0.01)\n",
    "\n",
    "pred_sets = cp.predict_set(X_test)\n",
    "\n",
    "coverage = np.mean([y_test[i] in pred_sets[i] for i in range(len(y_test))])\n",
    "efficiency = np.mean([len(pred_sets[i]) for i in range(len(y_test))])\n",
    "\n",
    "# clf.fit(X_train,y_train, num_epochs=1000, batch_size=1, learning_rate=0.001)\n",
    "# rnk.fit(X_train,y_train, num_epochs=1000, batch_size=1, learning_rate=0.001)"
   ]
  },
  {
   "cell_type": "code",
   "execution_count": 18,
   "metadata": {},
   "outputs": [
    {
     "name": "stdout",
     "output_type": "stream",
     "text": [
      "0.9696969696969697\n",
      "1.8181818181818181\n"
     ]
    }
   ],
   "source": [
    "print(coverage)\n",
    "print(efficiency)"
   ]
  },
  {
   "cell_type": "code",
   "execution_count": null,
   "metadata": {},
   "outputs": [],
   "source": []
  }
 ],
 "metadata": {
  "kernelspec": {
   "display_name": ".venv",
   "language": "python",
   "name": "python3"
  },
  "language_info": {
   "codemirror_mode": {
    "name": "ipython",
    "version": 3
   },
   "file_extension": ".py",
   "mimetype": "text/x-python",
   "name": "python",
   "nbconvert_exporter": "python",
   "pygments_lexer": "ipython3",
   "version": "3.11.5"
  }
 },
 "nbformat": 4,
 "nbformat_minor": 2
}

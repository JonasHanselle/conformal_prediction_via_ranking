{
 "cells": [
  {
   "cell_type": "code",
   "execution_count": 9,
   "metadata": {},
   "outputs": [],
   "source": [
    "import numpy as np\n",
    "from sklearn.datasets import make_classification, load_iris, load_wine, load_breast_cancer\n",
    "from sklearn.model_selection import train_test_split\n",
    "import torch\n",
    "from sklearn.model_selection import train_test_split\n",
    "from sklearn.metrics import accuracy_score\n",
    "from simple_model import DyadOneHotPairDataset, DyadRankingModel, create_dyads\n",
    "\n",
    "class ConformalPredictor:\n",
    "\n",
    "    def __init__(self, model, alpha=0.05):\n",
    "        self.model = model\n",
    "        self.alpha = alpha\n",
    "\n",
    "    def fit(self, X, y, cal_size=0.33,**kwargs):\n",
    "        X_train, X_cal, y_train, y_cal = train_test_split(X,y,test_size=cal_size)\n",
    "        self.model.fit(X_train, y_train,**kwargs)\n",
    "        y_pred_cal = self.model.predict_proba(X_cal)\n",
    "        self.scores = 1 - y_pred_cal[np.arange(len(y_cal)), y_cal]\n",
    "        n = len(self.scores)\n",
    "        self.threshold = np.quantile(self.scores, np.ceil((n+1)*(1-self.alpha))/n, method=\"inverted_cdf\")\n",
    "\n",
    "    def predict_set(self,X):\n",
    "        y_probas = self.model.predict_proba(X)\n",
    "        pred_sets = []\n",
    "        for y_proba in y_probas:\n",
    "            pred_set = np.where(1 - y_proba <= self.threshold)[0]\n",
    "            pred_sets.append(pred_set)\n",
    "        return pred_sets\n",
    "    \n",
    "\n",
    "\n",
    "class ConformalRankingPredictor:\n",
    "    def __init__(self, num_classes, alpha=0.05):\n",
    "        self.num_classes = num_classes\n",
    "        self.alpha = 0.05\n",
    "\n",
    "    def fit(self, X, y, cal_size=0.33, hidden_dim=16, **kwargs):\n",
    "        X_train, X_cal, y_train, y_cal = train_test_split(X,y,test_size=cal_size)\n",
    "        self.model = DyadRankingModel(input_dim = X_train.shape[1] + y.max()+1, hidden_dim=16)\n",
    "        self.model.fit(X_train, y_train,**kwargs)\n",
    "        \n",
    "        # # here we typically compute non conformity scores. For the ranker\n",
    "        # # we use the predicted latent skill value\n",
    "        \n",
    "        # y_pred_cal = self.model.predict_proba(X_cal)\n",
    "        # self.scores = 1 - y_pred_cal[np.arange(len(y_cal)), y_cal]\n",
    "        cal_dyads = create_dyads(X_cal, y_cal, self.num_classes)\n",
    "        with torch.no_grad():\n",
    "            self.scores = self.model(cal_dyads).detach().numpy()\n",
    "        n = len(self.scores)\n",
    "        # TODO check alpha here\n",
    "        self.threshold = np.quantile(self.scores, np.ceil((n+1)*(self.alpha))/n, method=\"inverted_cdf\")\n",
    "\n",
    "    def predict_set(self,X):\n",
    "                \n",
    "        y_skills = self.model.predict_class_skills(X)\n",
    "        \n",
    "\n",
    "        pred_sets = []\n",
    "        for y_skill in y_skills:\n",
    "            pred_set = np.where(y_skill > self.threshold)[0]\n",
    "            pred_sets.append(pred_set)\n",
    "        return pred_sets"
   ]
  },
  {
   "cell_type": "code",
   "execution_count": 10,
   "metadata": {},
   "outputs": [],
   "source": [
    "# X, y = make_classification(n_samples=5000, n_informative = 5, n_classes=2, n_features=40, n_redundant=0, n_repeated=0)\n",
    "X,y = load_breast_cancer(return_X_y=True)\n",
    "\n",
    "X_train, X_test, y_train, y_test = train_test_split(X, y, test_size=0.33)"
   ]
  },
  {
   "cell_type": "code",
   "execution_count": 11,
   "metadata": {},
   "outputs": [],
   "source": [
    "from simple_model import ClassifierModel, DyadRankingModel\n",
    "from sklearn.linear_model import LogisticRegression\n",
    "from sklearn.ensemble import RandomForestClassifier\n",
    "\n",
    "\n",
    "# clf = ClassifierModel(input_dim = X_train.shape[1], hidden_dim=16, output_dim=y.max()+1)\n",
    "clf = RandomForestClassifier()\n",
    "\n",
    "cp = ConformalPredictor(clf, alpha=0.05)\n",
    "\n",
    "cp.fit(X_train, y_train)\n",
    "pred_sets_clf = cp.predict_set(X_test)\n",
    "\n",
    "# crp = ConformalRankingPredictor(num_classes=y_train.max()+1, alpha= 0.05)\n",
    "# crp.fit(X_train,y_train, num_epochs=1000, learning_rate=0.001)\n",
    "\n",
    "# pred_sets_rnk = crp.predict_set(X_test)\n"
   ]
  },
  {
   "cell_type": "code",
   "execution_count": 12,
   "metadata": {},
   "outputs": [
    {
     "name": "stdout",
     "output_type": "stream",
     "text": [
      "Accuracy clf 0.9627659574468085\n",
      "Coverage clf 0.9468085106382979 efficiency clf 0.9787234042553191\n"
     ]
    }
   ],
   "source": [
    "\n",
    "coverage_clf = np.mean([y_test[i] in pred_sets_clf[i] for i in range(len(y_test))])\n",
    "efficiency_clf = np.mean([len(pred_sets_clf[i]) for i in range(len(y_test))])\n",
    "\n",
    "# coverage_rnk = np.mean([y_test[i] in pred_sets_rnk[i] for i in range(len(y_test))])\n",
    "# efficiency_rnk = np.mean([len(pred_sets_rnk[i]) for i in range(len(y_test))])\n",
    "\n",
    "y_test_clf = cp.model.predict(X_test)\n",
    "# y_test_rnk = crp.model.predict_class(X_test)\n",
    "\n",
    "print(f\"Accuracy clf {accuracy_score(y_test_clf, y_test)}\")\n",
    "# print(f\"Accuracy rnk {accuracy_score(y_test_rnk, y_test)}\")\n",
    "\n",
    "print(f\"Coverage clf {coverage_clf} efficiency clf {efficiency_clf}\")\n",
    "# print(f\"Coverage rnk {coverage_rnk} efficiency rnk {efficiency_rnk}\")\n"
   ]
  },
  {
   "cell_type": "code",
   "execution_count": 13,
   "metadata": {},
   "outputs": [
    {
     "data": {
      "text/plain": [
       "array([0, 0, 1, 1, 0, 0, 0, 1, 1, 0, 0, 0, 1, 0, 0, 1, 1, 1, 1, 1, 0, 0,\n",
       "       1, 0, 0, 0, 1, 1, 0, 0, 1, 1, 0, 1, 1, 0, 1, 1, 1, 0, 1, 0, 1, 0,\n",
       "       1, 0, 1, 1, 0, 1, 1, 1, 1, 1, 0, 0, 0, 1, 0, 0, 1, 1, 0, 0, 0, 1,\n",
       "       0, 0, 1, 0, 0, 1, 1, 1, 1, 0, 1, 1, 1, 0, 1, 1, 1, 1, 1, 1, 0, 1,\n",
       "       1, 1, 1, 1, 1, 0, 1, 0, 1, 1, 1, 0, 1, 1, 1, 0, 1, 0, 1, 1, 0, 1,\n",
       "       1, 1, 0, 1, 0, 1, 1, 1, 1, 0, 0, 1, 1, 0, 1, 0, 1, 1, 1, 0, 1, 1,\n",
       "       1, 1, 1, 0, 1, 1, 0, 1, 1, 0, 0, 1, 1, 0, 1, 1, 0, 1, 0, 1, 0, 1,\n",
       "       1, 0, 1, 1, 1, 0, 0, 0, 1, 0, 0, 1, 1, 1, 1, 1, 0, 1, 1, 1, 1, 1,\n",
       "       1, 1, 1, 0, 0, 0, 1, 1, 1, 0, 0, 1])"
      ]
     },
     "execution_count": 13,
     "metadata": {},
     "output_type": "execute_result"
    }
   ],
   "source": [
    "y_test"
   ]
  },
  {
   "cell_type": "code",
   "execution_count": null,
   "metadata": {},
   "outputs": [],
   "source": []
  },
  {
   "cell_type": "code",
   "execution_count": null,
   "metadata": {},
   "outputs": [],
   "source": []
  }
 ],
 "metadata": {
  "kernelspec": {
   "display_name": ".venv",
   "language": "python",
   "name": "python3"
  },
  "language_info": {
   "codemirror_mode": {
    "name": "ipython",
    "version": 3
   },
   "file_extension": ".py",
   "mimetype": "text/x-python",
   "name": "python",
   "nbconvert_exporter": "python",
   "pygments_lexer": "ipython3",
   "version": "3.11.5"
  }
 },
 "nbformat": 4,
 "nbformat_minor": 2
}

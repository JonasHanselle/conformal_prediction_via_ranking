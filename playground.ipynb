{
 "cells": [
  {
   "cell_type": "code",
   "execution_count": 19,
   "metadata": {},
   "outputs": [],
   "source": [
    "import numpy as np\n",
    "from sklearn.datasets import make_classification, load_iris\n",
    "from sklearn.model_selection import train_test_split\n",
    "import torch"
   ]
  },
  {
   "cell_type": "code",
   "execution_count": 20,
   "metadata": {},
   "outputs": [],
   "source": [
    "# X, y = make_classification(n_samples=250, n_informative = 7, n_classes=3, n_features=10)\n",
    "X,y = load_iris(return_X_y=True)\n",
    "\n",
    "X_train, X_test, y_train, y_test = train_test_split(X, y, test_size=0.33)"
   ]
  },
  {
   "cell_type": "code",
   "execution_count": 21,
   "metadata": {},
   "outputs": [],
   "source": [
    "from simple_model import ClassifierModel, DyadRankingModel\n",
    "\n",
    "clf = ClassifierModel(input_dim = X_train.shape[1], hidden_dim=16, output_dim=y.max()+1)\n",
    "rnk = DyadRankingModel(input_dim = X_train.shape[1] + y.max()+1, hidden_dim=16)\n",
    "\n",
    "clf.fit(X_train,y_train, num_epochs=1000, batch_size=1, learning_rate=0.001)\n",
    "rnk.fit(X_train,y_train, num_epochs=1000, batch_size=1, learning_rate=0.001)"
   ]
  },
  {
   "cell_type": "code",
   "execution_count": 13,
   "metadata": {},
   "outputs": [],
   "source": [
    "from sklearn.metrics import accuracy_score\n",
    "y_pred_clf = clf.predict(X_test)\n",
    "y_pred_rnk = rnk.predict_classes(X_test)\n"
   ]
  },
  {
   "cell_type": "code",
   "execution_count": 14,
   "metadata": {},
   "outputs": [
    {
     "data": {
      "text/plain": [
       "0.6"
      ]
     },
     "execution_count": 14,
     "metadata": {},
     "output_type": "execute_result"
    }
   ],
   "source": [
    "accuracy_score(y_pred_clf, y_test)"
   ]
  },
  {
   "cell_type": "code",
   "execution_count": 15,
   "metadata": {},
   "outputs": [
    {
     "data": {
      "text/plain": [
       "0.58"
      ]
     },
     "execution_count": 15,
     "metadata": {},
     "output_type": "execute_result"
    }
   ],
   "source": [
    "accuracy_score(y_pred_rnk, y_test)"
   ]
  },
  {
   "cell_type": "code",
   "execution_count": 16,
   "metadata": {},
   "outputs": [
    {
     "name": "stdout",
     "output_type": "stream",
     "text": [
      "[0 2 0 2 0 0 2 2 0 2 2 0 0 2 2 2 2 2 2 2 0 2 2 0 2 2 2 2 2 2 2 2 2 0 2 2 2\n",
      " 2 2 2 2 2 0 2 0 2 0 2 2 2]\n"
     ]
    }
   ],
   "source": [
    "print(y_pred_rnk)"
   ]
  },
  {
   "cell_type": "code",
   "execution_count": 17,
   "metadata": {},
   "outputs": [],
   "source": [
    "X = torch.tensor(X_test, dtype=torch.float32)\n",
    "eye = torch.eye(3)\n",
    "eyes = eye.repeat((X.shape[0], 1))\n",
    "Xs = X.repeat_interleave(3, dim=0)\n",
    "dyads = torch.cat([Xs, eyes], dim=1)"
   ]
  },
  {
   "cell_type": "code",
   "execution_count": 18,
   "metadata": {},
   "outputs": [
    {
     "data": {
      "text/plain": [
       "tensor([[0.1485, 0.1325, 0.1475],\n",
       "        [0.2508, 0.2635, 0.2778],\n",
       "        [0.1675, 0.1503, 0.1646],\n",
       "        [0.2521, 0.2642, 0.2794],\n",
       "        [0.1634, 0.1459, 0.1610],\n",
       "        [0.1495, 0.1323, 0.1470],\n",
       "        [0.2551, 0.2689, 0.2830],\n",
       "        [0.2568, 0.2715, 0.2856],\n",
       "        [0.1584, 0.1406, 0.1563],\n",
       "        [0.2915, 0.3150, 0.3265],\n",
       "        [0.2572, 0.2709, 0.2856],\n",
       "        [0.1569, 0.1416, 0.1562],\n",
       "        [0.1320, 0.1114, 0.1255],\n",
       "        [0.2001, 0.1987, 0.2138],\n",
       "        [0.2790, 0.2982, 0.3120],\n",
       "        [0.2272, 0.2324, 0.2482],\n",
       "        [0.2390, 0.2470, 0.2630],\n",
       "        [0.2333, 0.2390, 0.2551],\n",
       "        [0.2500, 0.2622, 0.2770],\n",
       "        [0.2251, 0.2293, 0.2447],\n",
       "        [0.1492, 0.1322, 0.1473],\n",
       "        [0.1636, 0.1488, 0.1651],\n",
       "        [0.2327, 0.2415, 0.2561],\n",
       "        [0.1372, 0.1188, 0.1334],\n",
       "        [0.2441, 0.2552, 0.2702],\n",
       "        [0.2410, 0.2520, 0.2655],\n",
       "        [0.2379, 0.2455, 0.2617],\n",
       "        [0.2459, 0.2541, 0.2697],\n",
       "        [0.2431, 0.2513, 0.2662],\n",
       "        [0.2492, 0.2590, 0.2746],\n",
       "        [0.2495, 0.2625, 0.2770],\n",
       "        [0.2699, 0.2864, 0.3015],\n",
       "        [0.2266, 0.2312, 0.2476],\n",
       "        [0.1638, 0.1471, 0.1622],\n",
       "        [0.2146, 0.2162, 0.2320],\n",
       "        [0.2361, 0.2460, 0.2599],\n",
       "        [0.2338, 0.2411, 0.2570],\n",
       "        [0.2273, 0.2325, 0.2486],\n",
       "        [0.2363, 0.2441, 0.2597],\n",
       "        [0.2516, 0.2647, 0.2795],\n",
       "        [0.2278, 0.2333, 0.2491],\n",
       "        [0.2426, 0.2503, 0.2659],\n",
       "        [0.1551, 0.1378, 0.1527],\n",
       "        [0.2584, 0.2727, 0.2872],\n",
       "        [0.1662, 0.1489, 0.1640],\n",
       "        [0.2220, 0.2258, 0.2421],\n",
       "        [0.1650, 0.1484, 0.1637],\n",
       "        [0.2045, 0.2046, 0.2201],\n",
       "        [0.2505, 0.2623, 0.2761],\n",
       "        [0.2420, 0.2511, 0.2668]], grad_fn=<ViewBackward0>)"
      ]
     },
     "execution_count": 18,
     "metadata": {},
     "output_type": "execute_result"
    }
   ],
   "source": [
    "rnk(dyads).view(-1,3)"
   ]
  },
  {
   "cell_type": "code",
   "execution_count": null,
   "metadata": {},
   "outputs": [],
   "source": []
  }
 ],
 "metadata": {
  "kernelspec": {
   "display_name": ".venv",
   "language": "python",
   "name": "python3"
  },
  "language_info": {
   "codemirror_mode": {
    "name": "ipython",
    "version": 3
   },
   "file_extension": ".py",
   "mimetype": "text/x-python",
   "name": "python",
   "nbconvert_exporter": "python",
   "pygments_lexer": "ipython3",
   "version": "3.11.5"
  }
 },
 "nbformat": 4,
 "nbformat_minor": 2
}

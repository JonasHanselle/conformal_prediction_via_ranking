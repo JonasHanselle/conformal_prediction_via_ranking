{
 "cells": [
  {
   "cell_type": "code",
   "execution_count": 40,
   "metadata": {},
   "outputs": [],
   "source": [
    "import numpy as np\n",
    "from sklearn.datasets import make_classification, load_iris\n",
    "from sklearn.model_selection import train_test_split\n",
    "import torch"
   ]
  },
  {
   "cell_type": "code",
   "execution_count": 41,
   "metadata": {},
   "outputs": [],
   "source": [
    "X, y = make_classification(n_samples=500, n_informative = 7, n_classes=3, n_features=10)\n",
    "# X,y = load_iris(return_X_y=True)\n",
    "\n",
    "X_train, X_test, y_train, y_test = train_test_split(X, y, test_size=0.33)"
   ]
  },
  {
   "cell_type": "code",
   "execution_count": 42,
   "metadata": {},
   "outputs": [],
   "source": [
    "from simple_model import ClassifierModel, DyadRankingModel\n",
    "\n",
    "clf = ClassifierModel(input_dim = X_train.shape[1], hidden_dim=16, output_dim=y.max()+1)\n",
    "rnk = DyadRankingModel(input_dim = X_train.shape[1] + y.max()+1, hidden_dim=16)\n",
    "\n",
    "clf.fit(X_train,y_train, num_epochs=1000, batch_size=1, learning_rate=0.001)\n",
    "rnk.fit(X_train,y_train, num_epochs=1000, batch_size=1, learning_rate=0.001)"
   ]
  },
  {
   "cell_type": "code",
   "execution_count": 48,
   "metadata": {},
   "outputs": [],
   "source": [
    "from sklearn.metrics import accuracy_score\n",
    "y_pred_clf = clf.predict(X_test)\n",
    "y_pred_rnk = rnk.predict_classes(X_test)\n"
   ]
  },
  {
   "cell_type": "code",
   "execution_count": 49,
   "metadata": {},
   "outputs": [
    {
     "data": {
      "text/plain": [
       "0.8666666666666667"
      ]
     },
     "execution_count": 49,
     "metadata": {},
     "output_type": "execute_result"
    }
   ],
   "source": [
    "accuracy_score(y_pred_clf, y_test)"
   ]
  },
  {
   "cell_type": "code",
   "execution_count": 50,
   "metadata": {},
   "outputs": [
    {
     "data": {
      "text/plain": [
       "0.8181818181818182"
      ]
     },
     "execution_count": 50,
     "metadata": {},
     "output_type": "execute_result"
    }
   ],
   "source": [
    "accuracy_score(y_pred_rnk, y_test)"
   ]
  },
  {
   "cell_type": "code",
   "execution_count": 46,
   "metadata": {},
   "outputs": [
    {
     "name": "stdout",
     "output_type": "stream",
     "text": [
      "[0 1 1 1 1 2 0 1 2 2 0 1 2 1 1 2 0 1 1 1 2 0 1 0 1 1 0 1 0 0 2 2 2 0 0 2 1\n",
      " 2 2 0 1 2 2 1 2 1 0 1 2 0 0 2 2 0 0 2 2 0 0 1 2 2 2 0 1 0 1 2 1 1 0 1 0 1\n",
      " 0 2 2 0 0 0 1 2 0 1 2 0 2 2 2 2 1 0 1 1 2 2 0 1 1 0 1 0 1 0 2 0 2 0 0 0 2\n",
      " 1 2 2 1 2 2 0 1 2 0 1 2 1 1 0 0 2 1 2 2 2 0 1 0 1 2 1 0 0 2 1 0 1 2 1 0 0\n",
      " 1 2 0 2 0 2 1 2 0 0 1 2 2 0 0 0 1]\n"
     ]
    }
   ],
   "source": [
    "print(y_pred_rnk)"
   ]
  },
  {
   "cell_type": "code",
   "execution_count": 47,
   "metadata": {},
   "outputs": [],
   "source": [
    "X = torch.tensor(X_test, dtype=torch.float32)\n",
    "eye = torch.eye(3)\n",
    "eyes = eye.repeat((X.shape[0], 1))\n",
    "Xs = X.repeat_interleave(3, dim=0)\n",
    "dyads = torch.cat([Xs, eyes], dim=1)"
   ]
  },
  {
   "cell_type": "code",
   "execution_count": 39,
   "metadata": {},
   "outputs": [
    {
     "data": {
      "text/plain": [
       "tensor([[5.0186, 7.7470, 5.2435],\n",
       "        [4.0988, 6.7357, 6.5838],\n",
       "        [3.8287, 5.2760, 7.4289],\n",
       "        [4.0126, 6.2560, 7.2981],\n",
       "        [4.7854, 7.6715, 5.6353],\n",
       "        [8.2664, 4.7492, 3.8967],\n",
       "        [4.0590, 6.5551, 7.1697],\n",
       "        [4.0010, 6.2745, 7.6428],\n",
       "        [4.0624, 6.5341, 7.6514],\n",
       "        [4.3845, 7.2767, 6.2124],\n",
       "        [4.2930, 7.0929, 6.0766],\n",
       "        [4.0665, 6.6173, 6.9221],\n",
       "        [8.2810, 4.7097, 3.9061],\n",
       "        [3.8768, 5.5905, 7.2696],\n",
       "        [3.9843, 6.0960, 7.6634],\n",
       "        [4.0431, 6.4472, 7.4900],\n",
       "        [3.8955, 5.7183, 7.7014],\n",
       "        [4.5917, 7.5845, 6.2840],\n",
       "        [8.2492, 4.6969, 3.8855],\n",
       "        [4.2216, 6.9865, 8.0393],\n",
       "        [4.7688, 7.5516, 5.2012],\n",
       "        [3.9083, 5.6178, 7.7365],\n",
       "        [5.7593, 7.7523, 4.6139],\n",
       "        [5.0350, 7.9346, 6.0756],\n",
       "        [8.2639, 4.7287, 3.9185],\n",
       "        [4.6044, 7.6353, 6.4568],\n",
       "        [3.9280, 5.6605, 7.6969],\n",
       "        [8.1683, 4.6304, 3.9156],\n",
       "        [8.3246, 4.9968, 3.8733],\n",
       "        [4.7692, 7.6761, 5.7295],\n",
       "        [4.0727, 6.6178, 7.5734],\n",
       "        [5.1547, 7.9226, 5.6457],\n",
       "        [8.2023, 4.6092, 3.9103],\n",
       "        [8.0886, 4.5341, 3.9263],\n",
       "        [4.5657, 7.5776, 6.4018],\n",
       "        [3.8353, 5.2222, 7.4826],\n",
       "        [7.7596, 4.4030, 3.9719],\n",
       "        [4.9896, 7.6243, 4.9530],\n",
       "        [3.8089, 5.1040, 7.5360],\n",
       "        [3.9142, 5.7516, 7.2602],\n",
       "        [4.3438, 7.2957, 7.0450],\n",
       "        [8.0376, 4.5142, 3.9327],\n",
       "        [8.2090, 4.7013, 3.8893],\n",
       "        [3.8887, 5.7261, 7.8119],\n",
       "        [5.7906, 7.5911, 4.4143],\n",
       "        [8.3905, 5.0661, 3.8876],\n",
       "        [5.4172, 8.0589, 5.7265],\n",
       "        [4.7707, 7.8062, 6.5608],\n",
       "        [3.9048, 5.8417, 7.4220],\n",
       "        [3.9623, 5.8690, 7.9217]], grad_fn=<ViewBackward0>)"
      ]
     },
     "execution_count": 39,
     "metadata": {},
     "output_type": "execute_result"
    }
   ],
   "source": [
    "rnk(dyads).view(-1,3)"
   ]
  },
  {
   "cell_type": "code",
   "execution_count": null,
   "metadata": {},
   "outputs": [],
   "source": []
  }
 ],
 "metadata": {
  "kernelspec": {
   "display_name": ".venv",
   "language": "python",
   "name": "python3"
  },
  "language_info": {
   "codemirror_mode": {
    "name": "ipython",
    "version": 3
   },
   "file_extension": ".py",
   "mimetype": "text/x-python",
   "name": "python",
   "nbconvert_exporter": "python",
   "pygments_lexer": "ipython3",
   "version": "3.11.5"
  }
 },
 "nbformat": 4,
 "nbformat_minor": 2
}

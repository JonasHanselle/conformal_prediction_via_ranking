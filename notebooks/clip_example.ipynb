{
 "cells": [
  {
   "cell_type": "code",
   "execution_count": 9,
   "metadata": {},
   "outputs": [],
   "source": [
    "import torch\n",
    "from torchvision import datasets, transforms\n",
    "from torch.utils.data import DataLoader\n",
    "from transformers import CLIPProcessor, CLIPModel, AutoProcessor, AutoModel\n"
   ]
  },
  {
   "cell_type": "code",
   "execution_count": 10,
   "metadata": {},
   "outputs": [],
   "source": [
    "model = CLIPModel.from_pretrained(\"openai/clip-vit-base-patch32\")\n",
    "processor = CLIPProcessor.from_pretrained(\"openai/clip-vit-base-patch32\")\n"
   ]
  },
  {
   "cell_type": "code",
   "execution_count": 11,
   "metadata": {},
   "outputs": [],
   "source": [
    "transform = transforms.Compose([\n",
    "    transforms.Resize((224, 224)),  # CLIP expects 224x224 images\n",
    "    transforms.ToTensor(),\n",
    "    transforms.Normalize(mean=[0.4815, 0.4578, 0.4082], std=[0.2686, 0.2613, 0.2757])  # CLIP normalization\n",
    "])\n"
   ]
  },
  {
   "cell_type": "code",
   "execution_count": 29,
   "metadata": {},
   "outputs": [
    {
     "name": "stdout",
     "output_type": "stream",
     "text": [
      "Files already downloaded and verified\n",
      "Files already downloaded and verified\n"
     ]
    }
   ],
   "source": [
    "from torch.utils.data import Subset\n",
    "cifar_data_train = datasets.CIFAR10(root=\"./data\", train=True, download=True, transform=transform)\n",
    "cifar_data_test = datasets.CIFAR10(root=\"./data\", train=False, download=True, transform=transform)\n",
    "calib_data = Subset(cifar_data_train, range(250))  # for demonstration purposes\n",
    "# train_data = Subset(cifar_data, range(250,1000))  # for demonstration purposes\n",
    "test_data = Subset(cifar_data_test, range(500))\n",
    "calib_loader = DataLoader(calib_data, batch_size=32, shuffle=False)\n",
    "test_loader = DataLoader(calib_data, batch_size=32, shuffle=False)"
   ]
  },
  {
   "cell_type": "code",
   "execution_count": 30,
   "metadata": {},
   "outputs": [],
   "source": [
    "class_names = cifar_data.classes  # CIFAR-10 class names\n",
    "text_inputs = processor(text=class_names, return_tensors=\"pt\", padding=True)\n"
   ]
  },
  {
   "cell_type": "code",
   "execution_count": 31,
   "metadata": {},
   "outputs": [
    {
     "data": {
      "text/plain": [
       "['airplane',\n",
       " 'automobile',\n",
       " 'bird',\n",
       " 'cat',\n",
       " 'deer',\n",
       " 'dog',\n",
       " 'frog',\n",
       " 'horse',\n",
       " 'ship',\n",
       " 'truck']"
      ]
     },
     "execution_count": 31,
     "metadata": {},
     "output_type": "execute_result"
    }
   ],
   "source": [
    "class_names"
   ]
  },
  {
   "cell_type": "code",
   "execution_count": null,
   "metadata": {},
   "outputs": [
    {
     "name": "stdout",
     "output_type": "stream",
     "text": [
      "[25.365989685058594, 26.455493927001953, 25.2419376373291, 25.60202407836914, 25.934114456176758, 27.183713912963867, 26.499649047851562, 29.578855514526367, 28.320209503173828, 28.197999954223633, 24.66594696044922, 25.592741012573242, 27.471712112426758, 28.72464370727539, 26.64839744567871, 28.159019470214844, 25.213783264160156, 27.23236083984375, 28.481182098388672, 29.226364135742188, 29.374387741088867, 26.899513244628906, 23.37452507019043, 25.62276840209961, 24.326765060424805, 28.5065975189209, 26.390464782714844, 25.771800994873047, 29.074600219726562, 21.49118995666504, 24.411808013916016, 27.261476516723633]\n"
     ]
    },
    {
     "name": "stderr",
     "output_type": "stream",
     "text": [
      "/tmp/ipykernel_90368/1522319890.py:30: UserWarning: To copy construct from a tensor, it is recommended to use sourceTensor.clone().detach() or sourceTensor.clone().detach().requires_grad_(True), rather than torch.tensor(sourceTensor).\n",
      "  scores += logits_per_image.take_along_dim(torch.tensor(labels).unsqueeze(-1),dim=1).squeeze().tolist()\n"
     ]
    }
   ],
   "source": [
    "import matplotlib.pyplot as plt\n",
    "from sklearn.metrics import accuracy_score\n",
    "\n",
    "def denormalize(img: torch.Tensor, mean: torch.Tensor, std: torch.Tensor):\n",
    "    \"\"\"Denormalizes the image given the mean and standard deviation.\"\"\"\n",
    "    return img * torch.tensor(std).view(3, 1, 1) + torch.tensor(mean).view(3, 1, 1)\n",
    "\n",
    "# Forward pass through CLIP\n",
    "\n",
    "all_labels = []\n",
    "all_predictions = []\n",
    "scores = []\n",
    "\n",
    "# Compute nonconformity scores\n",
    "\n",
    "for images, labels in calib_loader:\n",
    "\n",
    "    pil_images = [transforms.ToPILImage()(denormalize(img, processor.image_processor.image_mean, processor.image_processor.image_std)) for img in images]\n",
    "    \n",
    "    # Process images using CLIP's processor (automatically normalizes them)\n",
    "    inputs = processor(images=pil_images, return_tensors=\"pt\")\n",
    "    input_image_processed = inputs['pixel_values'].squeeze(0)\n",
    "\n",
    "    outputs = model(**inputs, **text_inputs)\n",
    "    logits_per_image = outputs.logits_per_image  # Image-to-text similarity scores\n",
    "    probs = logits_per_image.softmax(dim=1)  # Convert to probabilities\n",
    "    predictions = probs.argmax(dim=1)  \n",
    "    all_labels.extend(labels.tolist())\n",
    "    all_predictions.extend(predictions.tolist())    \n",
    "    scores += logits_per_image.take_along_dim(torch.tensor(labels).unsqueeze(-1),dim=1).squeeze().tolist()\n",
    "    break\n",
    "\n",
    "\n",
    "print(scores)\n",
    "\n"
   ]
  },
  {
   "cell_type": "code",
   "execution_count": null,
   "metadata": {},
   "outputs": [
    {
     "name": "stdout",
     "output_type": "stream",
     "text": [
      "Quantile: 29.2929744720459\n"
     ]
    }
   ],
   "source": [
    "alpha = 0.05\n",
    "n = len(scores)\n",
    "# Compute the quantile for the nonconformity scores\n",
    "quantile = torch.quantile(torch.tensor(scores), 1 - alpha)\n",
    "\n",
    "print(\"Quantile:\", quantile.item())\n",
    "\n",
    "\n",
    "for images, labels in test_loader:\n",
    "\n",
    "    pil_images = [transforms.ToPILImage()(denormalize(img, processor.image_processor.image_mean, processor.image_processor.image_std)) for img in images]\n",
    "    \n",
    "    # Process images using CLIP's processor (automatically normalizes them)\n",
    "    inputs = processor(images=pil_images, return_tensors=\"pt\")\n",
    "    input_image_processed = inputs['pixel_values'].squeeze(0)\n",
    "\n",
    "    outputs = model(**inputs, **text_inputs)\n",
    "    logits_per_image = outputs.logits_per_image  # Image-to-text similarity scores\n",
    "    probs = logits_per_image.softmax(dim=1)  # Convert to probabilities\n",
    "    predictions = probs.argmax(dim=1)\n",
    "    all_labels.extend(labels.tolist())\n",
    "    all_predictions.extend(predictions.tolist())\n",
    "    scores += logits_per_image.take_along_dim(torch.tensor(labels).unsqueeze(-1),dim=1).squeeze().tolist()\n",
    "    break\n"
   ]
  },
  {
   "cell_type": "code",
   "execution_count": null,
   "metadata": {},
   "outputs": [],
   "source": [
    "\n",
    "all_labels = []\n",
    "all_predictions = []\n",
    "\n",
    "\n",
    "# Compute nonconformity scores\n",
    "\n",
    "for images, labels in calib_loader:\n",
    "\n",
    "    pil_images = [transforms.ToPILImage()(denormalize(img, processor.image_processor.image_mean, processor.image_processor.image_std)) for img in images]\n",
    "    \n",
    "    # Process images using CLIP's processor (automatically normalizes them)\n",
    "    inputs = processor(images=pil_images, return_tensors=\"pt\")\n",
    "    input_image_processed = inputs['pixel_values'].squeeze(0)\n",
    "\n",
    "    outputs = model(**inputs, **text_inputs)\n",
    "    logits_per_image = outputs.logits_per_image  # Image-to-text similarity scores\n",
    "    probs = logits_per_image.softmax(dim=1)  # Convert to probabilities\n",
    "    predictions = probs.argmax(dim=1)  \n",
    "    all_labels.extend(labels.tolist())\n",
    "    all_predictions.extend(predictions.tolist())    \n",
    "    print(outputs.logit_per_image.take_along_dim(1,labels))\n",
    "    break\n",
    "\n",
    "\n",
    "print(all_labels,all_predictions)\n",
    "print(accuracy_score(all_labels, all_predictions))"
   ]
  },
  {
   "cell_type": "code",
   "execution_count": null,
   "metadata": {},
   "outputs": [],
   "source": []
  },
  {
   "cell_type": "code",
   "execution_count": null,
   "metadata": {},
   "outputs": [],
   "source": []
  },
  {
   "cell_type": "code",
   "execution_count": null,
   "metadata": {},
   "outputs": [],
   "source": []
  }
 ],
 "metadata": {
  "kernelspec": {
   "display_name": "plnet",
   "language": "python",
   "name": "python3"
  },
  "language_info": {
   "codemirror_mode": {
    "name": "ipython",
    "version": 3
   },
   "file_extension": ".py",
   "mimetype": "text/x-python",
   "name": "python",
   "nbconvert_exporter": "python",
   "pygments_lexer": "ipython3",
   "version": "3.11.10"
  }
 },
 "nbformat": 4,
 "nbformat_minor": 2
}

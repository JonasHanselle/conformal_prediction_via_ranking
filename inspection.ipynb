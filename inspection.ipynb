{
 "cells": [
  {
   "cell_type": "code",
   "execution_count": 1,
   "metadata": {},
   "outputs": [
    {
     "name": "stderr",
     "output_type": "stream",
     "text": [
      "/home/jonas/Documents/Research/dyad_ranking/torch_plnet/.venv/lib/python3.11/site-packages/openml/utils.py:461: FutureWarning: Starting from Version 0.15 `download_data`, `download_qualities`, and `download_features_meta_data` will all be ``False`` instead of ``True`` by default to enable lazy loading. To disable this message until version 0.15 explicitly set `download_data`, `download_qualities`, and `download_features_meta_data` to a bool while calling `get_dataset`.\n",
      "  return func(*args, **kwargs)\n"
     ]
    }
   ],
   "source": [
    "import joblib\n",
    "\n",
    "joblib.parallel_config(backend=\"multiprocessing\")\n",
    "\n",
    "import joblib._store_backends\n",
    "import sys\n",
    "\n",
    "import random\n",
    "import numpy as np\n",
    "import torch\n",
    "import openml\n",
    "import types\n",
    "\n",
    "import random\n",
    "from sklearn.model_selection import train_test_split\n",
    "from simple_model import ConformalRankingPredictor, ConformalPredictor, ClassifierModel\n",
    "from sklearn.preprocessing import LabelEncoder\n",
    "\n",
    "from sklearn.pipeline import make_pipeline, Pipeline\n",
    "from sklearn.compose import ColumnTransformer\n",
    "from sklearn.preprocessing import StandardScaler, OneHotEncoder\n",
    "from sklearn.impute import SimpleImputer\n",
    "from sklearn.model_selection import cross_validate\n",
    "from sklearn.ensemble import RandomForestClassifier\n",
    "from sklearn.metrics import (\n",
    "    f1_score,\n",
    "    accuracy_score,\n",
    "    balanced_accuracy_score,\n",
    "    roc_auc_score,\n",
    ")\n",
    "\n",
    "\n",
    "master_seed = 1\n",
    "rng = random.Random(master_seed)\n",
    "mccv_split_seed = rng.randint(0, 2**32 - 1)\n",
    "clf_seed = rng.randint(0, 2**32 - 1)\n",
    "\n",
    "random.seed(clf_seed)\n",
    "np.random.seed(clf_seed)\n",
    "torch.manual_seed(clf_seed)\n",
    "\n",
    "if torch.cuda.is_available():\n",
    "    torch.cuda.manual_seed(clf_seed)\n",
    "    torch.cuda.manual_seed_all(clf_seed)\n",
    "\n",
    "dataset = openml.datasets.get_dataset(41)\n",
    "X, y, _, _ = dataset.get_data(\n",
    "    target=dataset.default_target_attribute, dataset_format=\"dataframe\"\n",
    ")\n",
    "\n",
    "# Automatically identify categorical and numerical columns\n",
    "categorical_features = X.select_dtypes(\n",
    "    include=[\"object\", \"category\"]\n",
    ").columns.tolist()\n",
    "numerical_features = X.select_dtypes(include=[\"int64\", \"float64\"]).columns.tolist()\n",
    "\n",
    "num_classes = len(np.unique(y))\n",
    "\n",
    "X_train, X_test, y_train, y_test = train_test_split(\n",
    "    X, y, test_size=0.2, random_state=mccv_split_seed\n",
    ")\n",
    "\n",
    "# Encode labels\n",
    "le = LabelEncoder()\n",
    "\n",
    "y_train = le.fit_transform(y_train)\n",
    "y_test = le.transform(y_test)\n",
    "\n",
    "# Preprocessing for numerical data: Impute missing values, then scale\n",
    "numerical_transformer = Pipeline(\n",
    "    steps=[\n",
    "        (\"imputer\", SimpleImputer(strategy=\"mean\")),\n",
    "        (\"scaler\", StandardScaler()),\n",
    "    ]\n",
    ")\n",
    "\n",
    "# Preprocessing for categorical data: Impute missing values, then one-hot encode\n",
    "categorical_transformer = Pipeline(\n",
    "    steps=[\n",
    "        (\"imputer\", SimpleImputer(strategy=\"most_frequent\")),\n",
    "        (\"onehot\", OneHotEncoder(handle_unknown=\"ignore\")),\n",
    "    ]\n",
    ")\n",
    "\n",
    "# Combine preprocessing steps\n",
    "preprocessor = ColumnTransformer(\n",
    "    transformers=[\n",
    "        (\"num\", numerical_transformer, numerical_features),\n",
    "        (\"cat\", categorical_transformer, categorical_features),\n",
    "    ]\n",
    ")\n",
    "\n",
    "X_train = preprocessor.fit_transform(X_train)\n",
    "\n",
    "model = ClassifierModel(\n",
    "    input_dim=X_train.shape[1], hidden_dim=16, output_dim=num_classes\n",
    ")\n",
    "predictor_clf = ConformalPredictor(model=model, alpha=0.1)\n",
    "predictor_rnk = ConformalRankingPredictor(\n",
    "    num_classes=num_classes, alpha=0.1, hidden_dim=16\n",
    ")\n",
    "\n",
    "if not isinstance(X_train, np.ndarray):\n",
    "    X_train = X_train.toarray()\n",
    "if not isinstance(y_train, np.ndarray):\n",
    "    y_train = y_train.toarray()\n",
    "\n",
    "predictor_clf.fit(\n",
    "    X_train,\n",
    "    y_train,\n",
    "    cal_size=0.2,\n",
    "    random_state=clf_seed,\n",
    ")\n",
    "\n",
    "\n",
    "predictor_rnk.fit(\n",
    "    X_train,\n",
    "    y_train,\n",
    "    cal_size=0.2,\n",
    "    random_state=clf_seed,\n",
    ")\n"
   ]
  },
  {
   "cell_type": "code",
   "execution_count": 2,
   "metadata": {},
   "outputs": [
    {
     "name": "stdout",
     "output_type": "stream",
     "text": [
      "Clf:  0.9534883720930233 2.2325581395348837\n",
      "Rnk:  0.9767441860465116 4.186046511627907\n"
     ]
    }
   ],
   "source": [
    "\n",
    "X_test = preprocessor.transform(X_test)\n",
    "\n",
    "# X_test = X_test.to_numpy()\n",
    "if not isinstance(X_test, np.ndarray):\n",
    "    X_test = X_test.toarray()\n",
    "if not isinstance(y_test, np.ndarray):\n",
    "    y_test = y_test.toarray()\n",
    "\n",
    "y_pred_crisp_clf = predictor_clf.model.predict(X_test)\n",
    "y_pred_set_clf = predictor_clf.predict_set(X_test)\n",
    "\n",
    "y_pred_crisp_rnk = predictor_rnk.model.predict(X_test)\n",
    "y_pred_set_rnk = predictor_rnk.predict_set(X_test)\n",
    "\n",
    "\n",
    "# Classifcation metrics of crisp (point) prediction\n",
    "score_f1_clf = f1_score(y_test, y_pred_crisp_clf, average=\"macro\")\n",
    "score_acc_clf = accuracy_score(y_test, y_pred_crisp_clf)\n",
    "score_bacc_clf = balanced_accuracy_score(y_test, y_pred_crisp_clf)\n",
    "score_f1_rnk = f1_score(y_test, y_pred_crisp_rnk, average=\"macro\")\n",
    "score_acc_rnk = accuracy_score(y_test, y_pred_crisp_rnk)\n",
    "score_bacc_rnk = balanced_accuracy_score(y_test, y_pred_crisp_rnk)\n",
    "# score_roc_auc = roc_auc_score(\n",
    "#     y_test, y_pred_crisp, average=\"macro\", multi_class=\"ovr\"\n",
    "# )\n",
    "\n",
    "# Conformal prediction metrics\n",
    "hits_clf = [y_test[i] in y_pred_set_clf[i] for i in range(len(y_test))]\n",
    "lens_clf = [len(y_pred_set_clf[i]) for i in range(len(y_test))]\n",
    "hits_rnk = [y_test[i] in y_pred_set_rnk[i] for i in range(len(y_test))]\n",
    "lens_rnk = [len(y_pred_set_rnk[i]) for i in range(len(y_test))]\n",
    "\n",
    "coverage_mean_clf = np.mean(hits_clf)\n",
    "coverage_std_clf = np.std(hits_clf)\n",
    "efficiency_mean_clf = np.mean(lens_clf)\n",
    "efficiency_std_clf = np.std(lens_clf)\n",
    "\n",
    "coverage_mean_rnk = np.mean(hits_rnk)\n",
    "coverage_std_rnk = np.std(hits_rnk)\n",
    "efficiency_mean_rnk = np.mean(lens_rnk)\n",
    "efficiency_std_rnk = np.std(lens_rnk)\n",
    "\n",
    "print(\"Clf: \", coverage_mean_clf, efficiency_mean_clf)\n",
    "print(\"Rnk: \", coverage_mean_rnk, efficiency_mean_rnk)"
   ]
  },
  {
   "cell_type": "code",
   "execution_count": 11,
   "metadata": {},
   "outputs": [
    {
     "data": {
      "text/plain": [
       "<matplotlib.lines.Line2D at 0x7f0b37cb2810>"
      ]
     },
     "execution_count": 11,
     "metadata": {},
     "output_type": "execute_result"
    },
    {
     "data": {
      "image/png": "[encoded data removed]",
      "text/plain": [
       "<Figure size 640x480 with 1 Axes>"
      ]
     },
     "metadata": {},
     "output_type": "display_data"
    }
   ],
   "source": [
    "import seaborn as sns\n",
    "import matplotlib.pyplot as plt\n",
    "\n",
    "fig, ax = plt.subplots()\n",
    "\n",
    "sns.histplot(x=predictor_clf.scores, ax=ax, bins=25)\n",
    "ax.axvline(x=predictor_clf.threshold)\n",
    "print(np.count_nonzero(predictor_clf.scores >= predictor_clf.threshold))"
   ]
  },
  {
   "cell_type": "code",
   "execution_count": 13,
   "metadata": {},
   "outputs": [
    {
     "data": {
      "text/plain": [
       "<matplotlib.lines.Line2D at 0x7f0b379b5f90>"
      ]
     },
     "execution_count": 13,
     "metadata": {},
     "output_type": "execute_result"
    },
    {
     "data": {
      "image/png": "[encoded data removed]",
      "text/plain": [
       "<Figure size 640x480 with 1 Axes>"
      ]
     },
     "metadata": {},
     "output_type": "display_data"
    }
   ],
   "source": [
    "fig, ax = plt.subplots()\n",
    "\n",
    "sns.histplot(x=predictor_rnk.scores.ravel(), ax=ax, bins=25)\n",
    "ax.axvline(x=predictor_rnk.threshold)\n",
    "print()"
   ]
  },
  {
   "cell_type": "code",
   "execution_count": null,
   "metadata": {},
   "outputs": [],
   "source": []
  }
 ],
 "metadata": {
  "kernelspec": {
   "display_name": ".venv",
   "language": "python",
   "name": "python3"
  },
  "language_info": {
   "codemirror_mode": {
    "name": "ipython",
    "version": 3
   },
   "file_extension": ".py",
   "mimetype": "text/x-python",
   "name": "python",
   "nbconvert_exporter": "python",
   "pygments_lexer": "ipython3",
   "version": "3.11.5"
  }
 },
 "nbformat": 4,
 "nbformat_minor": 2
}
